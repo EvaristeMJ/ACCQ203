{
 "cells": [
  {
   "cell_type": "code",
   "execution_count": 1,
   "metadata": {},
   "outputs": [
    {
     "name": "stdout",
     "output_type": "stream",
     "text": [
      "# *************************************************************************** #\n",
      "# *************************************************************************** #\n",
      "# TP13 : COURBES ELLIPTIQUES                                                  #\n",
      "# *************************************************************************** #\n",
      "# *************************************************************************** #\n",
      "\n"
     ]
    }
   ],
   "source": [
    "print(\"\"\"\\\n",
    "# *************************************************************************** #\n",
    "# *************************************************************************** #\n",
    "# TP13 : COURBES ELLIPTIQUES                                                  #\n",
    "# *************************************************************************** #\n",
    "# *************************************************************************** #\n",
    "\"\"\")\n",
    "\n",
    "# CONSIGNES\n",
    "#\n",
    "# Les seules lignes a modifier sont annoncee par \"Code pour l'exercice\"\n",
    "# indique en commmentaire et son signalees\n",
    "# Ne changez pas le nom des variables\n",
    "#\n",
    "# CONSEILS\n",
    "#\n",
    "# Ce modele vous sert a restituer votre travail. Il est deconseille d'ecrire\n",
    "# une longue suite d'instruction et de debugger ensuite. Il vaut mieux tester\n",
    "# le code que vous produisez ligne apres ligne, afficher les resultats et\n",
    "# controler que les objets que vous definissez sont bien ceux que vous attendez.\n",
    "#\n",
    "# Vous devez verifier votre code en le testant, y compris par des exemples que\n",
    "# vous aurez fabrique vous-meme.\n",
    "#\n"
   ]
  },
  {
   "cell_type": "code",
   "execution_count": 38,
   "metadata": {},
   "outputs": [
    {
     "name": "stdout",
     "output_type": "stream",
     "text": [
      "# ****************************************************************************\n",
      "# ADDITION DANS UNE COURBE ELLIPTIQUE\n",
      "# ****************************************************************************\n",
      "\n",
      "Vérification de l'addition True\n"
     ]
    }
   ],
   "source": [
    "reset()\n",
    "print(\"\"\"\\\n",
    "# ****************************************************************************\n",
    "# ADDITION DANS UNE COURBE ELLIPTIQUE\n",
    "# ****************************************************************************\n",
    "\"\"\")\n",
    "\n",
    "\n",
    "# Donnees de l'enonce de l'exercice\n",
    "\n",
    "p = 61\n",
    "Fp = FiniteField(p)\n",
    "E = EllipticCurve(Fp,[1,0])\n",
    "P = E.random_point()\n",
    "Q = E.random_point()\n",
    "\n",
    "# Code pour l'EXERCICE\n",
    "\n",
    "n = 100\n",
    "\n",
    "def addition(P,Q):\n",
    "    E = P.curve()\n",
    "    Fp = E.base_ring()\n",
    "    a = E.a4()\n",
    "    b = E.a6()\n",
    "    alpha = 1\n",
    "    if P == Q:\n",
    "        if P[1] == 0:\n",
    "            return E(0,1,0) # renvoie le point à l'infini\n",
    "        else:\n",
    "            alpha = (3*P[0]^2 + a)/(2*P[1])\n",
    "    else:\n",
    "        alpha = (Q[1]-P[1])/(Q[0]-P[0])\n",
    "    \n",
    "    xr = alpha^2-P[0]-Q[0]\n",
    "    yr = -P[1] + alpha*(P[0]-xr)\n",
    "    return E(xr,yr,1)\n",
    "\n",
    "# # Affichage des resultats\n",
    "print(\"Vérification de l'addition\", addition(P,Q)==P+Q)\n"
   ]
  },
  {
   "cell_type": "code",
   "execution_count": 49,
   "metadata": {},
   "outputs": [
    {
     "name": "stdout",
     "output_type": "stream",
     "text": [
      "# ****************************************************************************\n",
      "# COURBE DE L'ANSSI\n",
      "# ****************************************************************************\n",
      "\n",
      "ANSSI signifie : Agence Nationale de la Sécurité des Systèmes d'Information\n",
      "La taille de p est de 256 bits.\n",
      "La courbe recommandée est\n",
      "Elliptic Curve defined by y^2 = x^3 + 109454571331697278617670725030735128145969349647868738157201323556196022393856*x + 107744541122042688792155207242782455150382764043089114141096634497567301547839 over Finite Field of size 109454571331697278617670725030735128145969349647868738157201323556196022393859\n",
      "L'ordre de la courbe est :  109454571331697278617670725030735128146004546811402412653072203207726079563233\n",
      "p est premier :  True\n",
      "A priori, le calcul du logarithme discret pour le groupe défini par la courbe demande 3.3083919255689355e+38 opérations.\n",
      "La securité est alors de :  128  bits\n"
     ]
    }
   ],
   "source": [
    "reset()\n",
    "print(\"\"\"\\\n",
    "# ****************************************************************************\n",
    "# COURBE DE L'ANSSI\n",
    "# ****************************************************************************\n",
    "\"\"\")\n",
    "\n",
    "\n",
    "# Donnees de l'enonce de l'exercice\n",
    "\n",
    "\n",
    "# Code pour l'EXERCICE\n",
    "\n",
    "ANSSI = \"Agence Nationale de la Sécurité des Systèmes d'Information\"\n",
    "p = 0xf1fd178c0b3ad58f10126de8ce42435b3961adbcabc8ca6de8fcf353d86e9c03\n",
    "a = 0xf1fd178c0b3ad58f10126de8ce42435b3961adbcabc8ca6de8fcf353d86e9c00\n",
    "b = 0xee353fca5428a9300d4aba754a44c00fdfec0c9ae4b1a1803075ed967b7bb73f\n",
    "ordre = 0xf1fd178c0b3ad58f10126de8ce42435b53dc67e140d2bf941ffdd459c6d655e1\n",
    "E = EllipticCurve(FiniteField(p),[a,b])\n",
    "nb_operation = float(sqrt(ordre))\n",
    "securite = 0\n",
    "while 2^(securite) < nb_operation:\n",
    "    securite = securite + 1\n",
    "\n",
    "\n",
    "# # Affichage des resultats\n",
    "\n",
    "print( \"ANSSI signifie :\",ANSSI)\n",
    "print( \"La taille de p est de 256 bits.\")\n",
    "print(\"La courbe recommandée est\")\n",
    "print(E)\n",
    "print(\"L'ordre de la courbe est : \", ordre)\n",
    "print(\"p est premier : \",p.is_prime())\n",
    "print(\"A priori, le calcul du logarithme discret pour le groupe défini par la courbe demande\", nb_operation , \"opérations.\")\n",
    "print(\"La securité est alors de : \", securite, \" bits\")\n",
    "\n",
    "\n"
   ]
  },
  {
   "cell_type": "code",
   "execution_count": 15,
   "metadata": {},
   "outputs": [
    {
     "name": "stdout",
     "output_type": "stream",
     "text": [
      "# ****************************************************************************\n",
      "# COMPTAGE DE POINTS\n",
      "# ****************************************************************************\n",
      "\n",
      "On a le même résultat que Sage avec notre fonction naive :  True\n",
      "5. Il semblerait qu'il y ait moins de courbes de cardinal impair, ce qui se traduit par la forme des diagrammes.\n",
      "6. On peut remarquer que l'addition des cardinaux semble être toujours paire :  4008\n"
     ]
    },
    {
     "data": {
      "image/png": "[encoded data removed]",
      "text/plain": [
       "Graphics object consisting of 1 graphics primitive"
      ]
     },
     "execution_count": 15,
     "metadata": {},
     "output_type": "execute_result"
    }
   ],
   "source": [
    "reset()\n",
    "print(\"\"\"\\\n",
    "# ****************************************************************************\n",
    "# COMPTAGE DE POINTS\n",
    "# ****************************************************************************\n",
    "\"\"\")\n",
    "\n",
    "\n",
    "# Donnees de l'enonce de l'exercice\n",
    "\n",
    "p = 2003\n",
    "Fp = FiniteField(p)\n",
    "a = 1929\n",
    "b = 1178\n",
    "\n",
    "while true:\n",
    "    d=Fp.random_element()\n",
    "    if not d.is_square():\n",
    "        break\n",
    "\n",
    "\n",
    "\n",
    "# Code pour l'EXERCICE\n",
    "\n",
    "def comptage(a,b):\n",
    "    Pol.<X> = PolynomialRing(Fp)\n",
    "    point = set()\n",
    "    for y in Fp:\n",
    "        fy = y^2 - X^3 - a*X - b\n",
    "        for x in fy.roots():\n",
    "            point.add((x[0],y))\n",
    "    \n",
    "    return len(point) + 1\n",
    "\n",
    "q = 7\n",
    "F = FiniteField(q)\n",
    "frequence = [0 for i in range(q+1+2*ceil(sqrt(q)))]\n",
    "for A in F:\n",
    "    for B in F:\n",
    "        if 4*A^3 + 27*B^2 != F(0):# on vérifie que E_ab est bien une courbe lisse.\n",
    "            frequence[EllipticCurve(F,[A,B]).cardinality()] += 1\n",
    "\n",
    "# # Affichage des resultats\n",
    "\n",
    "print(\"On a le même résultat que Sage avec notre fonction naive : \", EllipticCurve(Fp,[a,b]).cardinality() == comptage(a,b))\n",
    "print(\"5. Il semblerait qu'il y ait moins de courbes de cardinal impair, ce qui se traduit par la forme des diagrammes.\")\n",
    "print(\"6. On peut remarquer que l'addition des cardinaux semble être toujours paire : \", EllipticCurve(Fp,[a,b]).cardinality() + EllipticCurve(Fp,[a*d^2,b*d^3]).cardinality())\n",
    "bar_chart(frequence)\n"
   ]
  },
  {
   "cell_type": "code",
   "execution_count": 18,
   "metadata": {},
   "outputs": [
    {
     "name": "stdout",
     "output_type": "stream",
     "text": [
      "# ****************************************************************************\n",
      "# FACTORISATION ECM\n",
      "# ****************************************************************************\n",
      "\n"
     ]
    },
    {
     "data": {
      "text/plain": [
       "4"
      ]
     },
     "execution_count": 18,
     "metadata": {},
     "output_type": "execute_result"
    }
   ],
   "source": [
    "reset()\n",
    "print(\"\"\"\\\n",
    "# ****************************************************************************\n",
    "# FACTORISATION ECM\n",
    "# ****************************************************************************\n",
    "\"\"\")\n",
    "\n",
    "\n",
    "# Donnees de l'enonce de l'exercice\n",
    "\n",
    "class FoundFactor(Exception):\n",
    "    def __init__(self, value):\n",
    "        self.value = value\n",
    "    def __str__(self):\n",
    "        return repr(self.value)\n",
    "\n",
    "n = 2020\n",
    "\n",
    "# Code pour l'EXERCICE\n",
    "\n",
    "def division(x,y):\n",
    "    n = y.modulus()\n",
    "    if y == 0:\n",
    "        raise ZeroDivisionError\n",
    "        return\n",
    "    if gcd(y,n) != 1:\n",
    "        raise FoundFactor(y)\n",
    "        return\n",
    "    return x/y\n",
    "\n",
    "def addition(P,Q):\n",
    "    E = P.curve()\n",
    "    Fp = E.base_ring()\n",
    "    a = E.a4()\n",
    "    b = E.a6()\n",
    "    alpha = 1\n",
    "    if P == Q:\n",
    "        if P[1] == 0:\n",
    "            return E(0,1,0) # renvoie le point à l'infini\n",
    "        else:\n",
    "            alpha = division(3*P[0]^2 + a,2*P[1])\n",
    "    else:\n",
    "        alpha = division(Q[1]-P[1],Q[0]-P[0])\n",
    "    \n",
    "    xr = alpha^2-P[0]-Q[0]\n",
    "    yr = -P[1] + alpha*(P[0]-xr)\n",
    "    return E(xr,yr,1) \n",
    "    \n",
    "def multiplication(lamb,P): \n",
    "    E = P.curve()\n",
    "    if lamb == 0:\n",
    "        return E(0,1,0)\n",
    "    elif lamb == 1:\n",
    "        return P\n",
    "    elif lamb%2 == 0:\n",
    "        return (lamb/2)*(addition(P,P))\n",
    "    return addition(P,((lamb-1)/2)*(addition(P,P)))\n",
    "\n",
    "def ECM(n,B):\n",
    "    Zn = Zmod(n)\n",
    "    a = Zn.random_element()\n",
    "    x0 = Zn.random_element()\n",
    "    y0 = Zn.random_element()\n",
    "    b = y0^2 - x0^3 - a*x0\n",
    "    g = gcd(4*a^3+27*b^2,n)\n",
    "    if 1<g<n:\n",
    "        return g\n",
    "    if g == n:\n",
    "        return None\n",
    "    E = EllipticCurve(Zn,[a,b])\n",
    "    A = E(x0,y0)\n",
    "    for p in Primes(B) :\n",
    "        e = 1\n",
    "        while p^e <= B :\n",
    "            e+=1\n",
    "        try :\n",
    "            A = multiplication(p^e,A)\n",
    "        except FoundFactor as ex :\n",
    "            factor = ex.value\n",
    "            return gcd(factor,n)   \n",
    "    return None\n",
    "\n",
    "\n",
    "# # Affichage des resultats\n",
    "\n",
    "ECM(n,15)\n",
    "\n"
   ]
  },
  {
   "cell_type": "code",
   "execution_count": 19,
   "metadata": {},
   "outputs": [
    {
     "name": "stdout",
     "output_type": "stream",
     "text": [
      "Une attaque par canaux auxiliaires peut profiter des disjonctions de cas pour les additions afin de deviner qu'un point Q est égal à un point P. L'avantage des courbes d'Edwards est que la somme ne dépend pas de si P = Q, dans ce cas l'attaque étudié par canaux auxilliaires est rendue inefficace.\n"
     ]
    }
   ],
   "source": [
    "# ****************************************************************************\n",
    "# COURBE D'EDWARDS\n",
    "# ****************************************************************************\n",
    "\n",
    "\n",
    "\n",
    "# Code pour l'EXERCICE\n",
    "\n",
    "reponse = \"Une attaque par canaux auxiliaires peut profiter des disjonctions de cas pour les additions afin de deviner qu'un point Q est égal à un point P. L'avantage des courbes d'Edwards est que la somme ne dépend pas de si P = Q, dans ce cas l'attaque étudié par canaux auxilliaires est rendue inefficace.\"\n",
    "\n",
    "# # Affichage des resultats\n",
    "\n",
    "print(reponse)\n"
   ]
  },
  {
   "cell_type": "code",
   "execution_count": null,
   "metadata": {},
   "outputs": [],
   "source": []
  }
 ],
 "metadata": {
  "kernelspec": {
   "display_name": "SageMath 9.3",
   "language": "sage",
   "name": "sagemath"
  },
  "language_info": {
   "codemirror_mode": {
    "name": "ipython",
    "version": 3
   },
   "file_extension": ".py",
   "mimetype": "text/x-python",
   "name": "python",
   "nbconvert_exporter": "python",
   "pygments_lexer": "ipython3",
   "version": "3.7.10"
  }
 },
 "nbformat": 4,
 "nbformat_minor": 4
}
