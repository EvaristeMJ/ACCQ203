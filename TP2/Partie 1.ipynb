{
 "cells": [
  {
   "cell_type": "code",
   "execution_count": 1,
   "metadata": {},
   "outputs": [
    {
     "name": "stdout",
     "output_type": "stream",
     "text": [
      "[                                  -5*t^3 - 10*t^2 + 20*t + 16                                 45*t^3 + 89*t^2 - 179*t - 143              5*t^5 + 10*t^4 - 105*t^3 - 184*t^2 + 338*t + 270 20*t^6 + 40*t^5 - 400*t^4 - 791*t^3 + 1084*t^2 + 1394*t + 302]\n",
      "[                                                     5*t + 15                                                   -45*t - 134                                  -5*t^3 - 15*t^2 + 85*t + 253                     -20*t^4 - 60*t^3 + 320*t^2 + 1047*t + 283]\n",
      "[                                                         -t^2                                               9*t^2 + 2*t + 1                                        t^4 - 17*t^2 - 4*t - 1                             4*t^5 - 64*t^3 - 35*t^2 - 8*t - 2]\n"
     ]
    }
   ],
   "source": [
    "A = matrix(ZZ,[\n",
    "        [-2,  3,  3,  1],\n",
    "        [ 2, -1,  1, -3],\n",
    "        [-4,  0, -1, -4]])\n",
    "Z.<t> = ZZ['t']\n",
    "A1 = random_matrix(Z, 3,4, algorithm='echelonizable', rank=3)\n",
    "print(A1)\n",
    "\n",
    "U = identity_matrix(4)"
   ]
  },
  {
   "cell_type": "code",
   "execution_count": 2,
   "metadata": {},
   "outputs": [],
   "source": [
    "def cherche_pivot_non_nul(i,j,A,U):\n",
    "    \"\"\"\n",
    "    Echange la colonne j avec une colonne à gauche pour que A[i,j] soit non nul.\n",
    "    \"\"\"\n",
    "    for k in range(0,j):\n",
    "        if A[i,k]!=0:\n",
    "            A.swap_columns(k,j)\n",
    "            U.swap_columns(k,j)\n",
    "            break"
   ]
  },
  {
   "cell_type": "code",
   "execution_count": 3,
   "metadata": {},
   "outputs": [],
   "source": [
    "def normalise_pivot(i,j,A,U):\n",
    "    \"\"\"\n",
    "    Multiplie la colonne j si besoin pour que A[i,j] soit positif.\n",
    "    \"\"\"\n",
    "    if A[i,j]<0:\n",
    "        A[:,j] = -A[:,j]\n",
    "        U[:,j] = -U[:,j]\n",
    "    assert(A[i,j]>0)\n"
   ]
  },
  {
   "cell_type": "code",
   "execution_count": 4,
   "metadata": {},
   "outputs": [],
   "source": [
    "def annule_a_gauche(i,j,A,U):\n",
    "    \"\"\"\n",
    "    Annule les coefficients à gauche de A[i,j]\n",
    "    \"\"\"\n",
    "    for k in range(j):\n",
    "        (d,u,v)=xgcd(A[i,j],A[i,k])\n",
    "        s = -A[i,k]/d\n",
    "        t = A[i,j]/d\n",
    "        Cj = A[:,j]\n",
    "        Uj = U[:,j]\n",
    "        Ck = A[:,k]\n",
    "        Uk = U[:,k]\n",
    "        A[:,k] = s*Cj+t*Ck\n",
    "        U[:,k] = s*Uj+t*Uk\n",
    "        A[:,j] = u*Cj + v*Ck\n",
    "        U[:,j] = u*Uj + v*Uk"
   ]
  },
  {
   "cell_type": "code",
   "execution_count": 10,
   "metadata": {},
   "outputs": [],
   "source": [
    "def reduit_a_droite(i,j,A,U):\n",
    "    \"\"\"\n",
    "    Réduit les coefficients à droite de A[i,j] modulo A[i,j]\n",
    "    \"\"\"\n",
    "    n = A.ncols()\n",
    "    for k in range(j+1,n):\n",
    "        q = A[i,k]//A[i,j]\n",
    "        A[:,k] = A[: , k]-q*A[: , j]\n",
    "        U[:,k] = U[:,k] -q*U[:,j]"
   ]
  },
  {
   "cell_type": "code",
   "execution_count": 6,
   "metadata": {},
   "outputs": [],
   "source": [
    "def MyHNF(A):\n",
    "    \"\"\"\n",
    "    Forme normale d'Hermite selon votre code\n",
    "    \"\"\"\n",
    "    m = A.nrows()\n",
    "    n = A.ncols()\n",
    "    H = copy(A)\n",
    "    U = identity_matrix(n)\n",
    "    # ECRIVEZ VOTRE CODE ICI, VOUS POUVEZ REPRENDRE LES FONCTIONS PRECEDENTES\n",
    "    # COMME SOUS-FONCTION\n",
    "    l = max(1,m-n+1)-1\n",
    "    i = m-1\n",
    "    j = n-1\n",
    "    while i >= l:\n",
    "        cherche_pivot_non_nul(i,j,H,U)\n",
    "        if H[i,j] == 0:\n",
    "            i = i - 1\n",
    "        else:\n",
    "            normalise_pivot(i,j,H,U)\n",
    "            while H[i,:j] != 0:\n",
    "                normalise_pivot(i,j,H,U)\n",
    "                annule_a_gauche(i,j,H,U)\n",
    "            reduit_a_droite(i,j,H,U)\n",
    "            i = i-1\n",
    "            j = j-1\n",
    "                \n",
    "    assert(H-A*U==0)\n",
    "    return H,U\n"
   ]
  },
  {
   "cell_type": "code",
   "execution_count": 7,
   "metadata": {},
   "outputs": [],
   "source": [
    "def MyHNFPolynomial(A):\n",
    "    \"\"\"\n",
    "    Forme normale d'Hermite selon votre code\n",
    "    \"\"\"\n",
    "    m = A.nrows()\n",
    "    n = A.ncols()\n",
    "    H = copy(A)\n",
    "    U = identity_matrix(Z,n)\n",
    "    # ECRIVEZ VOTRE CODE ICI, VOUS POUVEZ REPRENDRE LES FONCTIONS PRECEDENTES\n",
    "    # COMME SOUS-FONCTION\n",
    "    l = max(1,m-n+1)-1\n",
    "    i = m-1\n",
    "    j = n-1\n",
    "    while i >= l:\n",
    "        cherche_pivot_non_nul(i,j,H,U)\n",
    "        if H[i,j] == 0:\n",
    "            i = i - 1\n",
    "        else:\n",
    "            normalise_pivot(i,j,H,U)\n",
    "            while H[i,:j] != 0:\n",
    "                normalise_pivot(i,j,H,U)\n",
    "                annule_a_gauche(i,j,H,U)\n",
    "            reduit_a_droite(i,j,H,U)\n",
    "            i = i-1\n",
    "            j = j-1\n",
    "                \n",
    "    assert(H-A*U==0)\n",
    "    return H,U"
   ]
  },
  {
   "cell_type": "code",
   "execution_count": 8,
   "metadata": {},
   "outputs": [],
   "source": [
    "def SageHNF(A):\n",
    "    \"\"\"\n",
    "    Forme normale d'Hermite de SAGE avec la convention francaise :\n",
    "    Les vecteurs sont ecrits en colonne.\n",
    "    \"\"\"\n",
    "    m = A.nrows()\n",
    "    n = A.ncols()\n",
    "    Mm = identity_matrix(ZZ,m)[::-1,:]\n",
    "    Mn = identity_matrix(ZZ,n)[::-1,:]\n",
    "    AA = (Mm*A).transpose()\n",
    "    HH, UU = AA.hermite_form(transformation=True)\n",
    "    H = (HH*Mm).transpose()*Mn\n",
    "    U = UU.transpose()*Mn\n",
    "    assert(H-A*U==0)\n",
    "    return H,U\n"
   ]
  },
  {
   "cell_type": "code",
   "execution_count": 11,
   "metadata": {},
   "outputs": [],
   "source": [
    "H,  U  = MyHNF(A)\n",
    "HH, UU = SageHNF(A)"
   ]
  },
  {
   "cell_type": "code",
   "execution_count": 16,
   "metadata": {},
   "outputs": [
    {
     "name": "stdout",
     "output_type": "stream",
     "text": [
      "Matrice du système\n",
      "[-2  3  3  1]\n",
      "[ 2 -1  1 -3]\n",
      "[-4  0 -1 -4]\n",
      "Forme normale d'Hermite\n",
      "[0 4 1 2]\n",
      "[0 0 1 0]\n",
      "[0 0 0 1]\n",
      "Matrice U\n",
      "[  8   3   3   6]\n",
      "[ 19   8   7  15]\n",
      "[-12  -4  -4  -9]\n",
      "[ -5  -2  -2  -4]\n",
      "Les vecteurs qui vérifient le système sont sur la droite de vecteur v\n",
      "[  8]\n",
      "[ 19]\n",
      "[-12]\n",
      "[ -5]\n",
      "Par exemple, Xv =\n",
      "[0]\n",
      "[0]\n",
      "[0]\n"
     ]
    }
   ],
   "source": [
    "# EXERCICE 59\n",
    "\n",
    "print(\"\"\"\\\n",
    "# ****************************************************************************\n",
    "# EXERCICE 59\n",
    "# ****************************************************************************\n",
    "\"\"\")\n",
    "\n",
    "X = matrix(ZZ,[\n",
    "    [-2,3,3,1],\n",
    "    [2,-1,1,-3],\n",
    "    [-4,0,-1,-4]\n",
    "]\n",
    "          )\n",
    "HX,UX = MyHNF(X)\n",
    "print(\"Matrice du système\")\n",
    "print(X)\n",
    "print(\"Forme normale d'Hermite\")\n",
    "print(HX)\n",
    "print(\"Matrice U\")\n",
    "print(UX)\n",
    "print(\"Les vecteurs qui vérifient le système sont sur la droite de vecteur v\")\n",
    "print(UX[:,0])\n",
    "print(\"Par exemple, Xv =\")\n",
    "print(X*UX[:,0])"
   ]
  },
  {
   "cell_type": "code",
   "execution_count": 27,
   "metadata": {},
   "outputs": [
    {
     "name": "stdout",
     "output_type": "stream",
     "text": [
      "# ****************************************************************************\n",
      "# EXERCICE 60\n",
      "# ****************************************************************************\n",
      "\n",
      "# 1.\n",
      "\n",
      "Matrice de l'énoncé :\n",
      "[ 15   8  -9  23  -9]\n",
      "[ 22  22   7  -8  20]\n",
      "[ 21  18  -1  -7  -3]\n",
      "[  3  -1   0  12 -16]\n",
      "Mise sous forme normale d'Hermite\n",
      "[0 2 0 1 0]\n",
      "[0 0 1 0 0]\n",
      "[0 0 0 1 0]\n",
      "[0 0 0 0 1]\n",
      "Im(M) n'est pas égal à Z4, par exemple, on ne peut obtenir (1,1,0,1) avec la base de H\n",
      "On aurait x_11 = k, 2x_2 = 1, x_3 = 1, x_4 = 0 et x_5 = 1, or il n'existe pas d'entier tel que 2x_2 = 1\n",
      "# 2.\n",
      "\n",
      "Est-ce que Z4 est égal à Im(M) ?\n",
      "False\n"
     ]
    }
   ],
   "source": [
    "#EXERCICE 60\n",
    "print(\"\"\"\\\n",
    "# ****************************************************************************\n",
    "# EXERCICE 60\n",
    "# ****************************************************************************\n",
    "\"\"\")\n",
    "\n",
    "# Matrice de l'énoncé\n",
    "M = matrix(ZZ,[\n",
    "    [15,8,-9,23,-9],\n",
    "    [22,22,7,-8,20],\n",
    "    [21,18,-1,-7,-3],\n",
    "    [3,-1,0,12,-16]\n",
    "] )\n",
    "\n",
    "print(\"\"\"\\\n",
    "# 1.\n",
    "\"\"\")\n",
    "# Forme normale d'Hermite\n",
    "H,U = MyHNF(M)\n",
    "print(\"Matrice de l'énoncé :\")\n",
    "print(M)\n",
    "print(\"Mise sous forme normale d'Hermite\")\n",
    "print(H)\n",
    "print(\"Im(M) n'est pas égal à Z4, par exemple, on ne peut obtenir (1,1,0,1) avec la base de H\")\n",
    "print(\"On aurait x_11 = k, 2x_2 = 1, x_3 = 1, x_4 = 0 et x_5 = 1, or il n'existe pas d'entier tel que 2x_2 = 1\")\n",
    "print(\"\"\"\\\n",
    "# 2.\n",
    "\"\"\")\n",
    "Z4 = ZZ^4\n",
    "N = Z4.submodule(M.transpose())\n",
    "print(\"Est-ce que Z4 est égal à Im(M) ?\")\n",
    "print(M == Z4)"
   ]
  },
  {
   "cell_type": "code",
   "execution_count": null,
   "metadata": {},
   "outputs": [],
   "source": []
  }
 ],
 "metadata": {
  "kernelspec": {
   "display_name": "SageMath 9.3",
   "language": "sage",
   "name": "sagemath"
  },
  "language_info": {
   "codemirror_mode": {
    "name": "ipython",
    "version": 3
   },
   "file_extension": ".py",
   "mimetype": "text/x-python",
   "name": "python",
   "nbconvert_exporter": "python",
   "pygments_lexer": "ipython3",
   "version": "3.7.10"
  }
 },
 "nbformat": 4,
 "nbformat_minor": 4
}
