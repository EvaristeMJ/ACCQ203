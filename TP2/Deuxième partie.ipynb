{
 "cells": [
  {
   "cell_type": "code",
   "execution_count": 1,
   "metadata": {},
   "outputs": [],
   "source": [
    "\n",
    "X1 = matrix(ZZ,2,3,[\n",
    "        [4, 7, 2],\n",
    "        [2, 4, 6]])\n",
    "\n",
    "X2 = matrix(ZZ,3,3,[\n",
    "        [-397, 423, 352],\n",
    "        [   2,  -3,   1],\n",
    "        [-146, 156, 128],\n",
    "])\n",
    "\n",
    "PolQ.<xQ> = PolynomialRing(QQ)\n",
    "AQ = matrix(PolQ,3,[\n",
    "            [xQ + 1,  2,     -6],\n",
    "            [     1, xQ,     -3],\n",
    "            [     1,  1, xQ - 4]])\n",
    "Pol2.<x2> = PolynomialRing(FiniteField(2))\n",
    "AF2 = matrix(Pol2,3,[\n",
    "            [x2 + 1,  2,     -6],\n",
    "            [     1, x2,     -3],\n",
    "            [     1,  1, x2 - 4]])\n",
    "Pol3.<x3> = PolynomialRing(FiniteField(3))\n",
    "AF3 = matrix(Pol3,3,[\n",
    "            [x3 + 1,  2,     -6],\n",
    "            [     1, x3,     -3],\n",
    "            [     1,  1, x3 - 4]])\n",
    "Pol5.<x5> = PolynomialRing(FiniteField(5))\n",
    "AF5 = matrix(Pol5,3,[\n",
    "            [x5 + 1,  2,     -6],\n",
    "            [     1, x5,     -3],\n",
    "            [     1,  1, x5 - 4]])"
   ]
  },
  {
   "cell_type": "code",
   "execution_count": 55,
   "metadata": {},
   "outputs": [],
   "source": [
    "def chercher_pivot(k,A,L,R):\n",
    "    m = A.nrows()\n",
    "    n = A.ncols()\n",
    "    if A[k,k] != 0:\n",
    "        return\n",
    "    else:\n",
    "        for i0 in range(k,m):\n",
    "            for j0 in range(k,n):\n",
    "                if A[i0,j0] != 0:\n",
    "                    A.swap_lines(k,i0)\n",
    "                    L.swap_lines(k,i0)\n",
    "                    A.swap_columns(k,j0)\n",
    "                    R.swap_columns(k,j0)"
   ]
  },
  {
   "cell_type": "code",
   "execution_count": 73,
   "metadata": {},
   "outputs": [],
   "source": [
    "def annuler_en_bas(k,i,A,L,R):\n",
    "    (d,s,t) = xgcd(A[k,k],A[i,k])\n",
    "    if A[i,k]%A[k,k]==0:\n",
    "        d = A[k,k]\n",
    "        s = 1\n",
    "        t = 0\n",
    "    u = -A[i,k]/d\n",
    "    v = A[k,k]/d\n",
    "    Lk = A[k,:]\n",
    "    LLk = L[k,:]\n",
    "    Li = A[i,:]\n",
    "    LLi = L[i,:]\n",
    "    A[k,:] = s*Lk + t*Li\n",
    "    L[k,:] = s*LLk + t*LLi\n",
    "    A[i,:] = u*Lk + v*Li\n",
    "    L[i,:] = u*LLk + v*LLi"
   ]
  },
  {
   "cell_type": "code",
   "execution_count": 54,
   "metadata": {},
   "outputs": [],
   "source": [
    "def annuler_a_droite(k,j,A,L,R):\n",
    "    (d,s,t) = xgcd(A[k,k],A[k,j])\n",
    "    if A[k,j]%A[k,k]==0:\n",
    "        d = A[k,k]\n",
    "        s = 1\n",
    "        t = 0\n",
    "    u = -A[k,j]/d\n",
    "    v = A[k,k]/d\n",
    "    Ck = A[:,k]\n",
    "    CRk = R[:,k]\n",
    "    Cj = A[:,j]\n",
    "    CRj = R[:,j]\n",
    "    A[:,k] = s*Ck + t*Cj\n",
    "    R[:,k] = s*CRk + t*CRj\n",
    "    A[:,j] = u*Ck + v*Cj\n",
    "    R[:,j] = u*CRk + v*CRj\n"
   ]
  },
  {
   "cell_type": "code",
   "execution_count": 53,
   "metadata": {},
   "outputs": [],
   "source": [
    "def divise_le_reste(k,A,L,R):\n",
    "    m = A.nrows()\n",
    "    n = A.ncols()\n",
    "    for j in range(k+1,n):\n",
    "        for i in range(k+1,m):\n",
    "            if A[i,j]%A[k,k]!=0:\n",
    "                A[:,k] = A[:,k] + A[:,j]\n",
    "                R[:,k]= R[:,k] + R[:,j]\n",
    "                return"
   ]
  },
  {
   "cell_type": "code",
   "execution_count": 23,
   "metadata": {},
   "outputs": [],
   "source": [
    "def coefficients_non_nuls(k,A):\n",
    "    m = A.nrows()\n",
    "    n = A.ncols()\n",
    "    for j in range(k+1,n):\n",
    "        if A[k,j] != 0:\n",
    "            return True\n",
    "    for i in range(k+1,m):\n",
    "        if A[i,k] != 0:\n",
    "            return True\n",
    "    return False"
   ]
  },
  {
   "cell_type": "code",
   "execution_count": 114,
   "metadata": {},
   "outputs": [],
   "source": [
    "def MySNF(A):\n",
    "    \"\"\"\n",
    "    Forme normale de Smith selon votre code\n",
    "    \"\"\"\n",
    "    t = A.base_ring()\n",
    "    m = A.nrows()\n",
    "    n = A.ncols()\n",
    "    H = copy(A)\n",
    "    L = identity_matrix(t,m)\n",
    "    U = identity_matrix(t,n)\n",
    "    # ECRIVEZ VOTRE CODE ICI\n",
    "    for k in range(min(m,n)):\n",
    "        while coefficients_non_nuls(k,H):\n",
    "            chercher_pivot(k,H,L,U)\n",
    "            for i in range(k+1,m):\n",
    "                annuler_en_bas(k,i,H,L,U)\n",
    "            for j in range(k+1,n):\n",
    "                annuler_a_droite(k,j,H,L,U)\n",
    "            divise_le_reste(k,H,L,U)\n",
    "    assert(H-L*A*U==0)\n",
    "    return H,L,U"
   ]
  },
  {
   "cell_type": "code",
   "execution_count": 115,
   "metadata": {},
   "outputs": [],
   "source": []
  },
  {
   "cell_type": "code",
   "execution_count": 117,
   "metadata": {},
   "outputs": [
    {
     "name": "stdout",
     "output_type": "stream",
     "text": [
      "[              1               0               0]\n",
      "[              0          xQ - 1               0]\n",
      "[              0               0 xQ^2 - 2*xQ + 1]\n",
      "[              1               0               0]\n",
      "[              0          xQ - 1               0]\n",
      "[              0               0 xQ^2 - 2*xQ + 1]\n"
     ]
    }
   ],
   "source": []
  },
  {
   "cell_type": "code",
   "execution_count": 127,
   "metadata": {},
   "outputs": [],
   "source": [
    "def sont_associes(a,b):\n",
    "    \"\"\"\n",
    "    Puisqu'on travaille dans des anneaux principaux, il suffit de montrer que a divise b et b divise a\n",
    "    Renvoie vrai si a et b sont associés\n",
    "    \"\"\"\n",
    "    if b==0 and a==0:\n",
    "        return True\n",
    "    \n",
    "    if b!= 0 and a%b==0:\n",
    "        if a!=0 and b%a == 0:\n",
    "            return True\n",
    "    return False"
   ]
  },
  {
   "cell_type": "code",
   "execution_count": 141,
   "metadata": {},
   "outputs": [],
   "source": [
    "def meme_SNF(H1,H2):\n",
    "    \"\"\"\n",
    "    Renvoie vrai si les coefficients de la SNF sont tous associés\n",
    "    Et donc que les coefficients de la SNF sont identiques à un facteur inversible près\n",
    "    Renvoie faux si les deux SNF ne sont pas équivalentes\n",
    "    \"\"\"\n",
    "    if H1.nrows() != H2.nrows():\n",
    "        return False\n",
    "    if H1.ncols() !=  H1.ncols():\n",
    "        return False\n",
    "    n = H1.ncols()\n",
    "    m = H1.nrows()\n",
    "    for k in range(min(n,m)):\n",
    "        if not sont_associes(H1[k,k],H2[k,k]):\n",
    "            return False\n",
    "    return True"
   ]
  },
  {
   "cell_type": "code",
   "execution_count": 142,
   "metadata": {},
   "outputs": [
    {
     "name": "stdout",
     "output_type": "stream",
     "text": [
      "([1 0 0]\n",
      "[0 2 0], [1 0]\n",
      "[0 1], [  2  -7  17]\n",
      "[ -1   4 -10]\n",
      "[  0   0   1])\n"
     ]
    }
   ],
   "source": [
    "H1, L1, U1 = MySNF(X1)\n",
    "H2,L2,U2 = MySNF(X2)\n",
    "HQ, _, _ = MySNF(AQ)\n",
    "HF2, _, _ = MySNF(AF2)\n",
    "HF3, _, _ = MySNF(AF3)\n",
    "HF5, _, _ = MySNF(AF5)\n",
    "smith_forms = [H1,H2,HQ,HF2,HF3,HF5]\n",
    "matrices = [X1,X2,AQ,AF2,AF3,AF5]\n",
    "\n",
    "test = True\n",
    "\n",
    "for i in range(len(matrices)):\n",
    "    A = matrices[i]\n",
    "    H = smith_forms[i]\n",
    "    smith_sage = A.smith_form()[0]\n",
    "    if not meme_SNF(H,smith_sage):\n",
    "        test=False\n",
    "        break\n",
    "test\n",
    "print(X1.smith_form())"
   ]
  },
  {
   "cell_type": "code",
   "execution_count": null,
   "metadata": {},
   "outputs": [],
   "source": []
  }
 ],
 "metadata": {
  "kernelspec": {
   "display_name": "SageMath 9.3",
   "language": "sage",
   "name": "sagemath"
  },
  "language_info": {
   "codemirror_mode": {
    "name": "ipython",
    "version": 3
   },
   "file_extension": ".py",
   "mimetype": "text/x-python",
   "name": "python",
   "nbconvert_exporter": "python",
   "pygments_lexer": "ipython3",
   "version": "3.7.10"
  }
 },
 "nbformat": 4,
 "nbformat_minor": 4
}
