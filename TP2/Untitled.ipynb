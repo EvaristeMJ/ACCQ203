{
 "cells": [
  {
   "cell_type": "code",
   "execution_count": 9,
   "metadata": {},
   "outputs": [],
   "source": [
    "A = matrix(ZZ,[\n",
    "              [ -630,   735,   0,   735, -630],\n",
    "              [ 1275, -1485, -15, -1470, 1275],\n",
    "              [  630,  -630,   0,  -630,  630]])\n"
   ]
  },
  {
   "cell_type": "code",
   "execution_count": null,
   "metadata": {},
   "outputs": [],
   "source": [
    "rang = A.rank()\n",
    "fact_inv = A.elementary_divisor()\n",
    "reponse = \"Il s'agit d'un module de torsion. Il est isomorphe à Z/15Z + Z/105Z + Z/630Z\""
   ]
  },
  {
   "cell_type": "code",
   "execution_count": null,
   "metadata": {},
   "outputs": [],
   "source": []
  }
 ],
 "metadata": {
  "kernelspec": {
   "display_name": "SageMath 9.3",
   "language": "sage",
   "name": "sagemath"
  },
  "language_info": {
   "codemirror_mode": {
    "name": "ipython",
    "version": 3
   },
   "file_extension": ".py",
   "mimetype": "text/x-python",
   "name": "python",
   "nbconvert_exporter": "python",
   "pygments_lexer": "ipython3",
   "version": "3.7.10"
  }
 },
 "nbformat": 4,
 "nbformat_minor": 4
}
