{
 "cells": [
  {
   "cell_type": "code",
   "execution_count": 1,
   "metadata": {},
   "outputs": [],
   "source": [
    "\n",
    "X1 = matrix(ZZ,2,3,[\n",
    "        [4, 7, 2],\n",
    "        [2, 4, 6]])\n",
    "\n",
    "X2 = matrix(ZZ,3,3,[\n",
    "        [-397, 423, 352],\n",
    "        [   2,  -3,   1],\n",
    "        [-146, 156, 128],\n",
    "])\n",
    "\n",
    "PolQ.<xQ> = PolynomialRing(QQ)\n",
    "AQ = matrix(PolQ,3,[\n",
    "            [xQ + 1,  2,     -6],\n",
    "            [     1, xQ,     -3],\n",
    "            [     1,  1, xQ - 4]])\n",
    "Pol2.<x2> = PolynomialRing(FiniteField(2))\n",
    "AF2 = matrix(Pol2,3,[\n",
    "            [x2 + 1,  2,     -6],\n",
    "            [     1, x2,     -3],\n",
    "            [     1,  1, x2 - 4]])\n",
    "Pol3.<x3> = PolynomialRing(FiniteField(3))\n",
    "AF3 = matrix(Pol3,3,[\n",
    "            [x3 + 1,  2,     -6],\n",
    "            [     1, x3,     -3],\n",
    "            [     1,  1, x3 - 4]])\n",
    "Pol5.<x5> = PolynomialRing(FiniteField(5))\n",
    "AF5 = matrix(Pol5,3,[\n",
    "            [x5 + 1,  2,     -6],\n",
    "            [     1, x5,     -3],\n",
    "            [     1,  1, x5 - 4]])"
   ]
  },
  {
   "cell_type": "code",
   "execution_count": 2,
   "metadata": {},
   "outputs": [],
   "source": [
    "def chercher_pivot(k,A,L,R):\n",
    "    m = A.nrows()\n",
    "    n = A.ncolumns()\n",
    "    if A[k,k] != 0:\n",
    "        return\n",
    "    else:\n",
    "        for i0 in range(k,m):\n",
    "            for j0 in range(k,n):\n",
    "                if A[i0,j0] != 0:\n",
    "                    A.swap_lines(k,i0)\n",
    "                    R.swap_lines(k,i0)\n",
    "                    A.swap_columns(k,j0)\n",
    "                    L.swap_columns(k,j0)"
   ]
  },
  {
   "cell_type": "code",
   "execution_count": 4,
   "metadata": {},
   "outputs": [],
   "source": [
    "def annuler_a_droite(k,i,A,L,R):\n",
    "    (d,s,t) = xgcd(A[k,k],A[k,i])\n",
    "    if A[i,k]%A[k,k]==0:\n",
    "        d = A[k,k]\n",
    "        s = 1\n",
    "        t = 0\n",
    "    u = -A[i,k]/d\n",
    "    v = A[k,k]/d\n",
    "    Lk = A[k,:]\n",
    "    LRk = R[k,:]\n",
    "    Li = A[i,:]\n",
    "    LRi = R[i,:]\n",
    "    A[k,:] = s*Lk + t*Li\n",
    "    R[k,:] = s*LRk + t*LRi\n",
    "    A[i,:] = u*Lk + v*Li\n",
    "    R[i,:] = u*LRk + v*LRi"
   ]
  },
  {
   "cell_type": "code",
   "execution_count": 9,
   "metadata": {},
   "outputs": [],
   "source": [
    "def annuler_en_bas(k,j,A,L,R):\n",
    "    (d,s,t) = xgcd(A[k,k],A[k,j])\n",
    "    if A[j,k]%A[k,k]==0:\n",
    "        d = A[k,k]\n",
    "        s = 1\n",
    "        t = 0\n",
    "    u = -A[j,k]/d\n",
    "    v = A[k,k]/d\n",
    "    Ck = A[:,k]\n",
    "    CLk = L[:,k]\n",
    "    Cj = A[:,j]\n",
    "    CLj = L[:,j]\n",
    "    A[:,k] = s*Ck + t*Cj\n",
    "    L[:,k] = s*CLk + t*CLj\n",
    "    A[:,j] = u*Ck + v*Cj\n",
    "    L[:,j] = u*CLk + v*CLj"
   ]
  },
  {
   "cell_type": "code",
   "execution_count": null,
   "metadata": {},
   "outputs": [],
   "source": [
    "def MySNF(A):\n",
    "    \"\"\"\n",
    "    Forme normale de Smith selon votre code\n",
    "    \"\"\"\n",
    "    m = A.nrows()\n",
    "    n = A.ncols()\n",
    "    H = copy(A)\n",
    "    L = identity_matrix(m)\n",
    "    U = identity_matrix(n)\n",
    "    # ECRIVEZ VOTRE CODE ICI\n",
    "    for k in range(min(m,n)):\n",
    "        chercher_pivot(k,H,L,U)\n",
    "        \n",
    "    assert(H-L*A*U==0)\n",
    "    return H,L,U"
   ]
  }
 ],
 "metadata": {
  "kernelspec": {
   "display_name": "SageMath 9.3",
   "language": "sage",
   "name": "sagemath"
  },
  "language_info": {
   "codemirror_mode": {
    "name": "ipython",
    "version": 3
   },
   "file_extension": ".py",
   "mimetype": "text/x-python",
   "name": "python",
   "nbconvert_exporter": "python",
   "pygments_lexer": "ipython3",
   "version": "3.7.10"
  }
 },
 "nbformat": 4,
 "nbformat_minor": 4
}
