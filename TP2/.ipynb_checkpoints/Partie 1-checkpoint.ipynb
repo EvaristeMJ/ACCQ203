{
 "cells": [
  {
   "cell_type": "code",
   "execution_count": 19,
   "metadata": {},
   "outputs": [],
   "source": [
    "A = matrix(ZZ,[\n",
    "        [-2,  3,  3,  1],\n",
    "        [ 2, -1,  1, -3],\n",
    "        [-4,  0, -1, -4]])\n",
    "\n",
    "A1 = random_matrix(ZZ, 7, 8, algorithm='echelonizable', rank=3)\n",
    "\n",
    "U = identity_matrix(4)"
   ]
  },
  {
   "cell_type": "code",
   "execution_count": 3,
   "metadata": {},
   "outputs": [],
   "source": [
    "def cherche_pivot_non_nul(i,j,A,U):\n",
    "    \"\"\"\n",
    "    Echange la colonne j avec une colonne à gauche pour que A[i,j] soit non nul.\n",
    "    \"\"\"\n",
    "    for k in range(0,j):\n",
    "        if A[i,k]!=0:\n",
    "            A.swap_columns(k,j)\n",
    "            U.swap_columns(k,j)\n",
    "            break\n"
   ]
  },
  {
   "cell_type": "code",
   "execution_count": 4,
   "metadata": {},
   "outputs": [],
   "source": [
    "def normalise_pivot(i,j,A,U):\n",
    "    \"\"\"\n",
    "    Multiplie la colonne j si besoin pour que A[i,j] soit positif.\n",
    "    \"\"\"\n",
    "    if A[i,j]<0:\n",
    "        A[:,j] = -A[:,j]\n",
    "        U[:,j] = -U[:,j]\n",
    "    assert(A[i,j]>0)\n"
   ]
  },
  {
   "cell_type": "code",
   "execution_count": 5,
   "metadata": {},
   "outputs": [],
   "source": [
    "def annule_a_gauche(i,j,A,U):\n",
    "    \"\"\"\n",
    "    Annule les coefficients à gauche de A[i,j]\n",
    "    \"\"\"\n",
    "    for k in range(j):\n",
    "        (d,u,v)=xgcd(A[i,j],A[i,k])\n",
    "        s = -A[i,k]/d\n",
    "        t = A[i,j]/d\n",
    "        Cj = A[:,j]\n",
    "        Uj = U[:,j]\n",
    "        Ck = A[:,k]\n",
    "        Uk = U[:,k]\n",
    "        A[:,k] = s*Cj+t*Ck\n",
    "        U[:,k] = s*Uj+t*Uk\n",
    "        A[:,j] = u*Cj + v*Ck\n",
    "        U[:,j] = u*Uj + v*Uk\n"
   ]
  },
  {
   "cell_type": "code",
   "execution_count": 27,
   "metadata": {},
   "outputs": [],
   "source": [
    "def reduit_a_droite(i,j,A,U):\n",
    "    \"\"\"\n",
    "    Réduit les coefficients à droite de A[i,j] modulo A[i,j]\n",
    "    \"\"\"\n",
    "    n = A.nrows()\n",
    "    for k in range(j+1,n+1):\n",
    "        q = A[i,k]//A[i,j]\n",
    "        A[:,k] = A[: , k]-q*A[: , j]\n",
    "        U[:,k] = U[:,k] -q*U[:,j]"
   ]
  },
  {
   "cell_type": "code",
   "execution_count": 31,
   "metadata": {},
   "outputs": [],
   "source": [
    "def MyHNF(A):\n",
    "    \"\"\"\n",
    "    Forme normale d'Hermite selon votre code\n",
    "    \"\"\"\n",
    "    m = A.nrows()\n",
    "    n = A.ncols()\n",
    "    H = copy(A)\n",
    "    U = identity_matrix(n)\n",
    "    # ECRIVEZ VOTRE CODE ICI, VOUS POUVEZ REPRENDRE LES FONCTIONS PRECEDENTES\n",
    "    # COMME SOUS-FONCTION\n",
    "    l = max(1,m-n+1)-1\n",
    "    i = m-1\n",
    "    j = n-1\n",
    "    while i >= l:\n",
    "        cherche_pivot_non_nul(i,j,H,U)\n",
    "        if H[i,j] == 0:\n",
    "            i = i - 1\n",
    "        else:\n",
    "            normalise_pivot(i,j,H,U)\n",
    "            while H[i,:j] != 0:\n",
    "                normalise_pivot(i,j,H,U)\n",
    "                annule_a_gauche(i,j,H,U)\n",
    "            reduit_a_droite(i,j,H,U)\n",
    "            i = i-1\n",
    "            j = j-1\n",
    "                \n",
    "    assert(H-A*U==0)\n",
    "    return H,U\n"
   ]
  },
  {
   "cell_type": "code",
   "execution_count": 8,
   "metadata": {},
   "outputs": [],
   "source": [
    "def SageHNF(A):\n",
    "    \"\"\"\n",
    "    Forme normale d'Hermite de SAGE avec la convention francaise :\n",
    "    Les vecteurs sont ecrits en colonne.\n",
    "    \"\"\"\n",
    "    m = A.nrows()\n",
    "    n = A.ncols()\n",
    "    Mm = identity_matrix(ZZ,m)[::-1,:]\n",
    "    Mn = identity_matrix(ZZ,n)[::-1,:]\n",
    "    AA = (Mm*A).transpose()\n",
    "    HH, UU = AA.hermite_form(transformation=True)\n",
    "    H = (HH*Mm).transpose()*Mn\n",
    "    U = UU.transpose()*Mn\n",
    "    assert(H-A*U==0)\n",
    "    return H,U\n"
   ]
  },
  {
   "cell_type": "code",
   "execution_count": 33,
   "metadata": {},
   "outputs": [
    {
     "name": "stdout",
     "output_type": "stream",
     "text": [
      "[0 0 0 0]\n",
      "[0 0 0 0]\n",
      "[0 0 0 0]\n"
     ]
    }
   ],
   "source": [
    "H,  U  = MyHNF(A)\n",
    "HH, UU = SageHNF(A)"
   ]
  },
  {
   "cell_type": "code",
   "execution_count": 34,
   "metadata": {},
   "outputs": [
    {
     "name": "stdout",
     "output_type": "stream",
     "text": [
      "True\n"
     ]
    }
   ],
   "source": [
    "test = true\n",
    "for _ in range(100):\n",
    "    A1 = random_matrix(ZZ, 7, 8, algorithm='echelonizable', rank=3)\n",
    "    H1,U1 = MyHNF(A1)\n",
    "    HH1,UU1 = SageHNF(A1)\n",
    "    if H1-HH1 != 0:\n",
    "        test = false\n",
    "        break\n",
    "print(test)"
   ]
  },
  {
   "cell_type": "code",
   "execution_count": null,
   "metadata": {},
   "outputs": [],
   "source": []
  }
 ],
 "metadata": {
  "kernelspec": {
   "display_name": "SageMath 9.3",
   "language": "sage",
   "name": "sagemath"
  },
  "language_info": {
   "codemirror_mode": {
    "name": "ipython",
    "version": 3
   },
   "file_extension": ".py",
   "mimetype": "text/x-python",
   "name": "python",
   "nbconvert_exporter": "python",
   "pygments_lexer": "ipython3",
   "version": "3.7.10"
  }
 },
 "nbformat": 4,
 "nbformat_minor": 4
}
